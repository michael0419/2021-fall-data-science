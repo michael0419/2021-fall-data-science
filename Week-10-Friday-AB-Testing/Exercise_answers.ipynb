{
 "cells": [
  {
   "cell_type": "markdown",
   "id": "marine-stock",
   "metadata": {},
   "source": [
    "# Exercise with A/B Testing\n",
    "\n",
    "### Prompt\n",
    "\n",
    "Let’s imagine you work on the For You Page at TikTok. Your team decides that instead of a heart button, they want to change it to star hoping that it will lead to a higher engagement/like rate. The product manager told you that the current conversion rate is about 6% on average throughout the year, and that the team would be happy with an increase of 3%, meaning that the new design will be considered a success if it raises the engagement rate to 9%.\n",
    "\n",
    "Before rolling out the change, the team would be more comfortable testing it on a small number of users to see how it performs, so you suggest running an A/B test on a subset of the user base users."
   ]
  },
  {
   "cell_type": "code",
   "execution_count": 46,
   "id": "streaming-honor",
   "metadata": {},
   "outputs": [],
   "source": [
    "# Packages imports\n",
    "import numpy as np\n",
    "import pandas as pd\n",
    "\n",
    "# probability distributions & statistical functions\n",
    "import scipy.stats as stats\n",
    "# estimating statistical models\n",
    "import statsmodels.stats.api as sms\n",
    "\n",
    "import matplotlib.pyplot as plt\n",
    "import seaborn as sns\n",
    "\n",
    "#rounding function\n",
    "from math import ceil\n",
    "\n"
   ]
  },
  {
   "cell_type": "markdown",
   "id": "seeing-worse",
   "metadata": {},
   "source": [
    "### Sample Size Calculation"
   ]
  },
  {
   "cell_type": "code",
   "execution_count": 109,
   "id": "popular-permit",
   "metadata": {},
   "outputs": [
    {
     "name": "stdout",
     "output_type": "stream",
     "text": [
      "1199\n"
     ]
    }
   ],
   "source": [
    "effect_size = sms.proportion_effectsize(0.06, 0.09)    # Calculating effect size based on our expected rates\n",
    "\n",
    "required_n = sms.NormalIndPower().solve_power(\n",
    "    effect_size, \n",
    "    power=0.8, \n",
    "    alpha=0.05, \n",
    "    ratio=1\n",
    "    )                                                  # Calculating sample size needed\n",
    "\n",
    "required_n = ceil(required_n)                          # Rounding up to next whole number                          \n",
    "print(required_n)"
   ]
  },
  {
   "cell_type": "markdown",
   "id": "crucial-editing",
   "metadata": {},
   "source": [
    "### Collecting and preparing the data"
   ]
  },
  {
   "cell_type": "code",
   "execution_count": 110,
   "id": "literary-separate",
   "metadata": {},
   "outputs": [
    {
     "data": {
      "text/html": [
       "<div>\n",
       "<style scoped>\n",
       "    .dataframe tbody tr th:only-of-type {\n",
       "        vertical-align: middle;\n",
       "    }\n",
       "\n",
       "    .dataframe tbody tr th {\n",
       "        vertical-align: top;\n",
       "    }\n",
       "\n",
       "    .dataframe thead th {\n",
       "        text-align: right;\n",
       "    }\n",
       "</style>\n",
       "<table border=\"1\" class=\"dataframe\">\n",
       "  <thead>\n",
       "    <tr style=\"text-align: right;\">\n",
       "      <th></th>\n",
       "      <th>user_id</th>\n",
       "      <th>timestamp</th>\n",
       "      <th>group</th>\n",
       "      <th>button</th>\n",
       "      <th>liked</th>\n",
       "    </tr>\n",
       "  </thead>\n",
       "  <tbody>\n",
       "    <tr>\n",
       "      <th>0</th>\n",
       "      <td>767017</td>\n",
       "      <td>2017-01-12 22:58:15</td>\n",
       "      <td>control</td>\n",
       "      <td>star</td>\n",
       "      <td>0</td>\n",
       "    </tr>\n",
       "    <tr>\n",
       "      <th>1</th>\n",
       "      <td>793849</td>\n",
       "      <td>2017-01-23 22:36:11</td>\n",
       "      <td>treatment</td>\n",
       "      <td>star</td>\n",
       "      <td>0</td>\n",
       "    </tr>\n",
       "    <tr>\n",
       "      <th>2</th>\n",
       "      <td>905617</td>\n",
       "      <td>2017-01-20 14:12:19</td>\n",
       "      <td>treatment</td>\n",
       "      <td>star</td>\n",
       "      <td>0</td>\n",
       "    </tr>\n",
       "    <tr>\n",
       "      <th>3</th>\n",
       "      <td>746742</td>\n",
       "      <td>2017-01-23 11:38:30</td>\n",
       "      <td>control</td>\n",
       "      <td>heart</td>\n",
       "      <td>0</td>\n",
       "    </tr>\n",
       "    <tr>\n",
       "      <th>4</th>\n",
       "      <td>892356</td>\n",
       "      <td>2017-01-05 9:35:15</td>\n",
       "      <td>treatment</td>\n",
       "      <td>star</td>\n",
       "      <td>1</td>\n",
       "    </tr>\n",
       "  </tbody>\n",
       "</table>\n",
       "</div>"
      ],
      "text/plain": [
       "   user_id            timestamp      group button  liked\n",
       "0   767017  2017-01-12 22:58:15    control   star      0\n",
       "1   793849  2017-01-23 22:36:11  treatment   star      0\n",
       "2   905617  2017-01-20 14:12:19  treatment   star      0\n",
       "3   746742  2017-01-23 11:38:30    control  heart      0\n",
       "4   892356   2017-01-05 9:35:15  treatment   star      1"
      ]
     },
     "execution_count": 110,
     "metadata": {},
     "output_type": "execute_result"
    }
   ],
   "source": [
    "df = pd.read_csv('tiktok_data.csv')\n",
    "df.head()"
   ]
  },
  {
   "cell_type": "code",
   "execution_count": 111,
   "id": "described-matrix",
   "metadata": {},
   "outputs": [
    {
     "name": "stdout",
     "output_type": "stream",
     "text": [
      "<class 'pandas.core.frame.DataFrame'>\n",
      "RangeIndex: 275781 entries, 0 to 275780\n",
      "Data columns (total 5 columns):\n",
      " #   Column     Non-Null Count   Dtype \n",
      "---  ------     --------------   ----- \n",
      " 0   user_id    275781 non-null  int64 \n",
      " 1   timestamp  275781 non-null  object\n",
      " 2   group      275781 non-null  object\n",
      " 3   button     275781 non-null  object\n",
      " 4   liked      275781 non-null  int64 \n",
      "dtypes: int64(2), object(3)\n",
      "memory usage: 10.5+ MB\n"
     ]
    }
   ],
   "source": [
    "df.info()"
   ]
  },
  {
   "cell_type": "markdown",
   "id": "significant-arthritis",
   "metadata": {},
   "source": [
    "- user_id - The user ID of each session\n",
    "- timestamp - Timestamp for the session\n",
    "- group - Which group the user was assigned to for that session {control, treatment}\n",
    "- landing_page - Which design each user saw on that session {old_page, new_page}\n",
    "- converted - Whether the session ended in a conversion or not (binary, 0=not converted, 1=converted)"
   ]
  },
  {
   "cell_type": "code",
   "execution_count": 112,
   "id": "metallic-providence",
   "metadata": {},
   "outputs": [
    {
     "data": {
      "text/html": [
       "<div>\n",
       "<style scoped>\n",
       "    .dataframe tbody tr th:only-of-type {\n",
       "        vertical-align: middle;\n",
       "    }\n",
       "\n",
       "    .dataframe tbody tr th {\n",
       "        vertical-align: top;\n",
       "    }\n",
       "\n",
       "    .dataframe thead th {\n",
       "        text-align: right;\n",
       "    }\n",
       "</style>\n",
       "<table border=\"1\" class=\"dataframe\">\n",
       "  <thead>\n",
       "    <tr style=\"text-align: right;\">\n",
       "      <th>button</th>\n",
       "      <th>heart</th>\n",
       "      <th>star</th>\n",
       "    </tr>\n",
       "    <tr>\n",
       "      <th>group</th>\n",
       "      <th></th>\n",
       "      <th></th>\n",
       "    </tr>\n",
       "  </thead>\n",
       "  <tbody>\n",
       "    <tr>\n",
       "      <th>control</th>\n",
       "      <td>136002</td>\n",
       "      <td>1816</td>\n",
       "    </tr>\n",
       "    <tr>\n",
       "      <th>treatment</th>\n",
       "      <td>1855</td>\n",
       "      <td>136108</td>\n",
       "    </tr>\n",
       "  </tbody>\n",
       "</table>\n",
       "</div>"
      ],
      "text/plain": [
       "button      heart    star\n",
       "group                    \n",
       "control    136002    1816\n",
       "treatment    1855  136108"
      ]
     },
     "execution_count": 112,
     "metadata": {},
     "output_type": "execute_result"
    }
   ],
   "source": [
    "# To make sure all the control group are seeing the old page and viceversa\n",
    "pd.crosstab(df['group'], df['button'])"
   ]
  },
  {
   "cell_type": "markdown",
   "id": "statutory-miniature",
   "metadata": {},
   "source": [
    "#### Before we go ahead and sample the data to get our subset, let’s make sure there are no users that have been sampled multiple times."
   ]
  },
  {
   "cell_type": "code",
   "execution_count": 113,
   "id": "fancy-lucas",
   "metadata": {},
   "outputs": [
    {
     "name": "stdout",
     "output_type": "stream",
     "text": [
      "3453\n"
     ]
    }
   ],
   "source": [
    "session_counts = df['user_id'].value_counts(ascending=False)\n",
    "multi_users = session_counts[session_counts > 1].count()\n",
    "\n",
    "print(multi_users)"
   ]
  },
  {
   "cell_type": "markdown",
   "id": "progressive-break",
   "metadata": {},
   "source": [
    "#### There are 3894 users that appear more than once. Since the number is pretty low, we’ll go ahead and remove them from the DataFrame to avoid sampling the same users twice."
   ]
  },
  {
   "cell_type": "code",
   "execution_count": 114,
   "id": "appreciated-thomas",
   "metadata": {},
   "outputs": [
    {
     "name": "stdout",
     "output_type": "stream",
     "text": [
      "268875\n"
     ]
    }
   ],
   "source": [
    "users_to_drop = session_counts[session_counts > 1].index\n",
    "\n",
    "df = df[~df['user_id'].isin(users_to_drop)]\n",
    "print(df.shape[0])"
   ]
  },
  {
   "cell_type": "markdown",
   "id": "skilled-apple",
   "metadata": {},
   "source": [
    "#### Now that our DataFrame is nice and clean, we can proceed and sample n=4720 entries for each of the groups. We can use pandas' DataFrame.sample() method to do this, which will perform Simple Random Sampling for us."
   ]
  },
  {
   "cell_type": "code",
   "execution_count": 115,
   "id": "absolute-runner",
   "metadata": {},
   "outputs": [],
   "source": [
    "control_sample = df[df['group'] == 'control'].sample(n=required_n, random_state=22)\n",
    "treatment_sample = df[df['group'] == 'treatment'].sample(n=required_n, random_state=22)"
   ]
  },
  {
   "cell_type": "code",
   "execution_count": 116,
   "id": "durable-belfast",
   "metadata": {},
   "outputs": [
    {
     "data": {
      "text/html": [
       "<div>\n",
       "<style scoped>\n",
       "    .dataframe tbody tr th:only-of-type {\n",
       "        vertical-align: middle;\n",
       "    }\n",
       "\n",
       "    .dataframe tbody tr th {\n",
       "        vertical-align: top;\n",
       "    }\n",
       "\n",
       "    .dataframe thead th {\n",
       "        text-align: right;\n",
       "    }\n",
       "</style>\n",
       "<table border=\"1\" class=\"dataframe\">\n",
       "  <thead>\n",
       "    <tr style=\"text-align: right;\">\n",
       "      <th></th>\n",
       "      <th>user_id</th>\n",
       "      <th>timestamp</th>\n",
       "      <th>group</th>\n",
       "      <th>button</th>\n",
       "      <th>liked</th>\n",
       "    </tr>\n",
       "  </thead>\n",
       "  <tbody>\n",
       "    <tr>\n",
       "      <th>0</th>\n",
       "      <td>644761</td>\n",
       "      <td>2017-01-20 5:19:16</td>\n",
       "      <td>control</td>\n",
       "      <td>heart</td>\n",
       "      <td>0</td>\n",
       "    </tr>\n",
       "    <tr>\n",
       "      <th>1</th>\n",
       "      <td>856804</td>\n",
       "      <td>2017-01-02 23:19:00</td>\n",
       "      <td>control</td>\n",
       "      <td>heart</td>\n",
       "      <td>0</td>\n",
       "    </tr>\n",
       "    <tr>\n",
       "      <th>2</th>\n",
       "      <td>728826</td>\n",
       "      <td>2017-01-03 4:16:37</td>\n",
       "      <td>control</td>\n",
       "      <td>heart</td>\n",
       "      <td>0</td>\n",
       "    </tr>\n",
       "    <tr>\n",
       "      <th>3</th>\n",
       "      <td>865441</td>\n",
       "      <td>2017-01-19 3:59:57</td>\n",
       "      <td>control</td>\n",
       "      <td>heart</td>\n",
       "      <td>0</td>\n",
       "    </tr>\n",
       "    <tr>\n",
       "      <th>4</th>\n",
       "      <td>796969</td>\n",
       "      <td>2017-01-05 4:08:26</td>\n",
       "      <td>control</td>\n",
       "      <td>heart</td>\n",
       "      <td>0</td>\n",
       "    </tr>\n",
       "    <tr>\n",
       "      <th>...</th>\n",
       "      <td>...</td>\n",
       "      <td>...</td>\n",
       "      <td>...</td>\n",
       "      <td>...</td>\n",
       "      <td>...</td>\n",
       "    </tr>\n",
       "    <tr>\n",
       "      <th>2393</th>\n",
       "      <td>647852</td>\n",
       "      <td>2017-01-16 4:47:04</td>\n",
       "      <td>treatment</td>\n",
       "      <td>star</td>\n",
       "      <td>0</td>\n",
       "    </tr>\n",
       "    <tr>\n",
       "      <th>2394</th>\n",
       "      <td>814529</td>\n",
       "      <td>2017-01-15 1:01:37</td>\n",
       "      <td>treatment</td>\n",
       "      <td>star</td>\n",
       "      <td>1</td>\n",
       "    </tr>\n",
       "    <tr>\n",
       "      <th>2395</th>\n",
       "      <td>924465</td>\n",
       "      <td>2017-01-13 8:37:42</td>\n",
       "      <td>treatment</td>\n",
       "      <td>star</td>\n",
       "      <td>0</td>\n",
       "    </tr>\n",
       "    <tr>\n",
       "      <th>2396</th>\n",
       "      <td>660778</td>\n",
       "      <td>2017-01-12 1:55:29</td>\n",
       "      <td>treatment</td>\n",
       "      <td>star</td>\n",
       "      <td>0</td>\n",
       "    </tr>\n",
       "    <tr>\n",
       "      <th>2397</th>\n",
       "      <td>868855</td>\n",
       "      <td>2017-01-12 20:23:56</td>\n",
       "      <td>treatment</td>\n",
       "      <td>star</td>\n",
       "      <td>0</td>\n",
       "    </tr>\n",
       "  </tbody>\n",
       "</table>\n",
       "<p>2398 rows × 5 columns</p>\n",
       "</div>"
      ],
      "text/plain": [
       "      user_id            timestamp      group button  liked\n",
       "0      644761   2017-01-20 5:19:16    control  heart      0\n",
       "1      856804  2017-01-02 23:19:00    control  heart      0\n",
       "2      728826   2017-01-03 4:16:37    control  heart      0\n",
       "3      865441   2017-01-19 3:59:57    control  heart      0\n",
       "4      796969   2017-01-05 4:08:26    control  heart      0\n",
       "...       ...                  ...        ...    ...    ...\n",
       "2393   647852   2017-01-16 4:47:04  treatment   star      0\n",
       "2394   814529   2017-01-15 1:01:37  treatment   star      1\n",
       "2395   924465   2017-01-13 8:37:42  treatment   star      0\n",
       "2396   660778   2017-01-12 1:55:29  treatment   star      0\n",
       "2397   868855  2017-01-12 20:23:56  treatment   star      0\n",
       "\n",
       "[2398 rows x 5 columns]"
      ]
     },
     "execution_count": 116,
     "metadata": {},
     "output_type": "execute_result"
    }
   ],
   "source": [
    "ab_test = pd.concat([control_sample, treatment_sample], axis=0)\n",
    "ab_test.reset_index(drop=True, inplace=True)\n",
    "ab_test"
   ]
  },
  {
   "cell_type": "code",
   "execution_count": 117,
   "id": "conservative-occasions",
   "metadata": {},
   "outputs": [
    {
     "name": "stdout",
     "output_type": "stream",
     "text": [
      "<class 'pandas.core.frame.DataFrame'>\n",
      "RangeIndex: 2398 entries, 0 to 2397\n",
      "Data columns (total 5 columns):\n",
      " #   Column     Non-Null Count  Dtype \n",
      "---  ------     --------------  ----- \n",
      " 0   user_id    2398 non-null   int64 \n",
      " 1   timestamp  2398 non-null   object\n",
      " 2   group      2398 non-null   object\n",
      " 3   button     2398 non-null   object\n",
      " 4   liked      2398 non-null   int64 \n",
      "dtypes: int64(2), object(3)\n",
      "memory usage: 93.8+ KB\n"
     ]
    }
   ],
   "source": [
    "ab_test.info()"
   ]
  },
  {
   "cell_type": "code",
   "execution_count": 118,
   "id": "threaded-cambridge",
   "metadata": {},
   "outputs": [
    {
     "data": {
      "text/plain": [
       "control      1199\n",
       "treatment    1199\n",
       "Name: group, dtype: int64"
      ]
     },
     "execution_count": 118,
     "metadata": {},
     "output_type": "execute_result"
    }
   ],
   "source": [
    "ab_test['group'].value_counts()\n"
   ]
  },
  {
   "cell_type": "markdown",
   "id": "metric-skill",
   "metadata": {},
   "source": [
    "### Analysis Visualization"
   ]
  },
  {
   "cell_type": "code",
   "execution_count": 119,
   "id": "satisfied-victoria",
   "metadata": {},
   "outputs": [
    {
     "data": {
      "text/html": [
       "<style  type=\"text/css\" >\n",
       "</style><table id=\"T_72a8f_\" ><thead>    <tr>        <th class=\"blank level0\" ></th>        <th class=\"col_heading level0 col0\" >conversion_rate</th>        <th class=\"col_heading level0 col1\" >std_deviation</th>        <th class=\"col_heading level0 col2\" >std_error</th>    </tr>    <tr>        <th class=\"index_name level0\" >group</th>        <th class=\"blank\" ></th>        <th class=\"blank\" ></th>        <th class=\"blank\" ></th>    </tr></thead><tbody>\n",
       "                <tr>\n",
       "                        <th id=\"T_72a8f_level0_row0\" class=\"row_heading level0 row0\" >control</th>\n",
       "                        <td id=\"T_72a8f_row0_col0\" class=\"data row0 col0\" >0.109</td>\n",
       "                        <td id=\"T_72a8f_row0_col1\" class=\"data row0 col1\" >0.312</td>\n",
       "                        <td id=\"T_72a8f_row0_col2\" class=\"data row0 col2\" >0.009</td>\n",
       "            </tr>\n",
       "            <tr>\n",
       "                        <th id=\"T_72a8f_level0_row1\" class=\"row_heading level0 row1\" >treatment</th>\n",
       "                        <td id=\"T_72a8f_row1_col0\" class=\"data row1 col0\" >0.118</td>\n",
       "                        <td id=\"T_72a8f_row1_col1\" class=\"data row1 col1\" >0.323</td>\n",
       "                        <td id=\"T_72a8f_row1_col2\" class=\"data row1 col2\" >0.009</td>\n",
       "            </tr>\n",
       "    </tbody></table>"
      ],
      "text/plain": [
       "<pandas.io.formats.style.Styler at 0x13ad8bee0>"
      ]
     },
     "execution_count": 119,
     "metadata": {},
     "output_type": "execute_result"
    }
   ],
   "source": [
    "conversion_rates = ab_test.groupby('group')['liked']\n",
    "\n",
    "std_p = lambda x: np.std(x, ddof=0)              # Std. deviation of the proportion\n",
    "se_p = lambda x: stats.sem(x, ddof=0)            # Std. error of the proportion (std / sqrt(n))\n",
    "\n",
    "conversion_rates = conversion_rates.agg([np.mean, std_p, se_p])\n",
    "conversion_rates.columns = ['conversion_rate', 'std_deviation', 'std_error']\n",
    "\n",
    "\n",
    "conversion_rates.style.format('{:.3f}')"
   ]
  },
  {
   "cell_type": "markdown",
   "id": "characteristic-fireplace",
   "metadata": {},
   "source": [
    "#### Judging by the stats above, it does look like our two designs performed very similarly, with our new design performing slightly better, approx. 12.3% vs. 12.6% conversion rate."
   ]
  },
  {
   "cell_type": "code",
   "execution_count": 120,
   "id": "reflected-ecology",
   "metadata": {},
   "outputs": [
    {
     "data": {
      "image/png": "[encoded data removed]",
      "text/plain": [
       "<Figure size 576x432 with 1 Axes>"
      ]
     },
     "metadata": {
      "needs_background": "light"
     },
     "output_type": "display_data"
    }
   ],
   "source": [
    "plt.figure(figsize=(8,6))\n",
    "\n",
    "sns.barplot(x=ab_test['group'], y=ab_test['liked'], ci=False)\n",
    "\n",
    "plt.ylim(0, 0.17)\n",
    "plt.title('Conversion rate by group', pad=20)\n",
    "plt.xlabel('Group', labelpad=15)\n",
    "plt.ylabel('Converted (proportion)', labelpad=15);"
   ]
  },
  {
   "cell_type": "markdown",
   "id": "adolescent-footage",
   "metadata": {},
   "source": [
    "### Testing for Stat Sig"
   ]
  },
  {
   "cell_type": "markdown",
   "id": "subtle-acoustic",
   "metadata": {},
   "source": [
    "#### Python makes all the calculations very easy. We can use the statsmodels.stats.proportion module to get the p-value and confidence intervals"
   ]
  },
  {
   "cell_type": "code",
   "execution_count": 121,
   "id": "precious-chicken",
   "metadata": {},
   "outputs": [],
   "source": [
    "from statsmodels.stats.proportion import proportions_ztest, proportion_confint\n",
    "\n",
    "control_results = ab_test[ab_test['group'] == 'control']['liked']\n",
    "treatment_results = ab_test[ab_test['group'] == 'treatment']['liked']\n",
    "\n",
    "n_con = control_results.count()\n",
    "n_treat = treatment_results.count()\n",
    "\n",
    "successes = [control_results.sum(), treatment_results.sum()]\n",
    "nobs = [n_con, n_treat]"
   ]
  },
  {
   "cell_type": "code",
   "execution_count": 122,
   "id": "lesbian-emperor",
   "metadata": {},
   "outputs": [],
   "source": [
    "z_stat, pval = proportions_ztest(successes, nobs=nobs) #Test for proportions based on normal ztest\n",
    "(lower_con, lower_treat), (upper_con, upper_treat) = proportion_confint(successes, nobs=nobs, alpha=0.05) #confidence interval for a binomial proportion\n"
   ]
  },
  {
   "cell_type": "code",
   "execution_count": 123,
   "id": "filled-quality",
   "metadata": {},
   "outputs": [
    {
     "name": "stdout",
     "output_type": "stream",
     "text": [
      "z statistic: -0.71\n",
      "p-value: 0.479\n",
      "ci 95% for control group: [0.092, 0.127]\n",
      "ci 95% for treatment group: [0.100, 0.137]\n"
     ]
    }
   ],
   "source": [
    "print(f'z statistic: {z_stat:.2f}')\n",
    "print(f'p-value: {pval:.3f}')\n",
    "print(f'ci 95% for control group: [{lower_con:.3f}, {upper_con:.3f}]')\n",
    "print(f'ci 95% for treatment group: [{lower_treat:.3f}, {upper_treat:.3f}]')"
   ]
  },
  {
   "cell_type": "markdown",
   "id": "closing-technique",
   "metadata": {},
   "source": [
    "#### Were the results signficant? What would you advise the engineering team to do moving forward?"
   ]
  },
  {
   "cell_type": "code",
   "execution_count": 127,
   "id": "respected-uganda",
   "metadata": {},
   "outputs": [
    {
     "name": "stdout",
     "output_type": "stream",
     "text": [
      "1199\n"
     ]
    }
   ],
   "source": []
  },
  {
   "cell_type": "code",
   "execution_count": null,
   "id": "arabic-medline",
   "metadata": {},
   "outputs": [],
   "source": []
  }
 ],
 "metadata": {
  "kernelspec": {
   "display_name": "Python 3",
   "language": "python",
   "name": "python3"
  },
  "language_info": {
   "codemirror_mode": {
    "name": "ipython",
    "version": 3
   },
   "file_extension": ".py",
   "mimetype": "text/x-python",
   "name": "python",
   "nbconvert_exporter": "python",
   "pygments_lexer": "ipython3",
   "version": "3.9.0"
  }
 },
 "nbformat": 4,
 "nbformat_minor": 5
}
